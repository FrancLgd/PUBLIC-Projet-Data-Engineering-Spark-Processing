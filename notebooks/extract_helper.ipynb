{
 "cells": [
  {
   "cell_type": "markdown",
   "metadata": {},
   "source": [
    "### LIBRAIRIES"
   ]
  },
  {
   "cell_type": "code",
   "execution_count": 1,
   "metadata": {},
   "outputs": [],
   "source": [
    "import findspark\n",
    "from pyspark import SparkContext\n",
    "from pyspark.sql import SQLContext\n",
    "from pyspark.sql import functions as func\n",
    "from pyspark.sql.window import Window\n",
    "import argparse\n",
    "from datetime import datetime\n",
    "import pandas as pd"
   ]
  },
  {
   "cell_type": "markdown",
   "metadata": {},
   "source": [
    "### PARAMETRES"
   ]
  },
  {
   "cell_type": "code",
   "execution_count": 2,
   "metadata": {},
   "outputs": [],
   "source": [
    "DATE_START = datetime.strptime(\"2019-10-01 00:00:00\",\"%Y-%m-%d %H:%M:%S\")\n",
    "DATE_END =  datetime.strptime(\"2019-10-01 23:00:00\",\"%Y-%m-%d %H:%M:%S\")\n",
    "DESTINATION = \"\""
   ]
  },
  {
   "cell_type": "markdown",
   "metadata": {},
   "source": [
    "### INITIALISATION DU SPARKCONTEXT"
   ]
  },
  {
   "cell_type": "code",
   "execution_count": 3,
   "metadata": {},
   "outputs": [
    {
     "name": "stderr",
     "output_type": "stream",
     "text": [
      "Setting default log level to \"WARN\".\n",
      "To adjust logging level use sc.setLogLevel(newLevel). For SparkR, use setLogLevel(newLevel).\n",
      "24/01/20 17:47:29 WARN NativeCodeLoader: Unable to load native-hadoop library for your platform... using builtin-java classes where applicable\n",
      "/home/blent/.local/lib/python3.10/site-packages/pyspark/sql/context.py:112: FutureWarning: Deprecated in 3.0.0. Use SparkSession.builder.getOrCreate() instead.\n",
      "  warnings.warn(\n"
     ]
    }
   ],
   "source": [
    "findspark.init()  # Trouve les exécutables dans le dossier SPARK_HOME\n",
    "\n",
    "sc = SparkContext(master=\"local[*]\")  # Créé un SparkContext local\n",
    "sql_c = SQLContext(sc)  # Instancie un SQLContext"
   ]
  },
  {
   "cell_type": "markdown",
   "metadata": {},
   "source": [
    "### TRAITEMENTS"
   ]
  },
  {
   "cell_type": "code",
   "execution_count": 4,
   "metadata": {},
   "outputs": [
    {
     "name": "stdout",
     "output_type": "stream",
     "text": [
      "hdfs://localhost:9000/ecom_data/export_20191001_20191001.csv\n"
     ]
    }
   ],
   "source": [
    "if DESTINATION==\"\":\n",
    "\n",
    "    DESTINATION = \"hdfs://localhost:9000/ecom_data/export_{}_{}.csv\".format(DATE_START.strftime(\"%Y%m%d\"),DATE_END.strftime(\"%Y%m%d\"))\n",
    "    \n",
    "print(DESTINATION)"
   ]
  },
  {
   "cell_type": "markdown",
   "metadata": {},
   "source": [
    "#### Check de DATE_START < DATE_END"
   ]
  },
  {
   "cell_type": "code",
   "execution_count": 6,
   "metadata": {},
   "outputs": [],
   "source": [
    "if DATE_START >= DATE_END:\n",
    "    raise ValueError(\"DATE_END doit être plus ancien que DATE_START.\")"
   ]
  },
  {
   "cell_type": "markdown",
   "metadata": {},
   "source": [
    "#### Lecture du fichier csv"
   ]
  },
  {
   "cell_type": "code",
   "execution_count": 7,
   "metadata": {},
   "outputs": [],
   "source": [
    "data = sql_c.read.option(\"header\", True).csv(\"data/sample.csv\")"
   ]
  },
  {
   "cell_type": "code",
   "execution_count": 8,
   "metadata": {},
   "outputs": [
    {
     "name": "stdout",
     "output_type": "stream",
     "text": [
      "+-------------------+----------+----------+-------------------+--------------------+--------+-------+---------+--------------------+\n",
      "|         event_time|event_type|product_id|        category_id|       category_code|   brand|  price|  user_id|        user_session|\n",
      "+-------------------+----------+----------+-------------------+--------------------+--------+-------+---------+--------------------+\n",
      "|2019-10-01 00:00:00|      view|  44600062|2103807459595387724|                null|shiseido|  35.79|541312140|72d76fde-8bb3-4e0...|\n",
      "|2019-10-01 00:00:00|      view|   3900821|2053013552326770905|appliances.enviro...|    aqua|   33.2|554748717|9333dfbd-b87a-470...|\n",
      "|2019-10-01 00:00:01|      view|  17200506|2053013559792632471|furniture.living_...|    null|  543.1|519107250|566511c2-e2e3-422...|\n",
      "|2019-10-01 00:00:01|      view|   1307067|2053013558920217191|  computers.notebook|  lenovo| 251.74|550050854|7c90fc70-0e80-459...|\n",
      "|2019-10-01 00:00:04|      view|   1004237|2053013555631882655|electronics.smart...|   apple|1081.98|535871217|c6bd7419-2748-4c5...|\n",
      "|2019-10-01 00:00:05|      view|   1480613|2053013561092866779|   computers.desktop|  pulser| 908.62|512742880|0d0d91c2-c9c2-4e8...|\n",
      "|2019-10-01 00:00:08|      view|  17300353|2053013553853497655|                null|   creed| 380.96|555447699|4fe811e9-91de-46d...|\n",
      "|2019-10-01 00:00:08|      view|  31500053|2053013558031024687|                null|luminarc|  41.16|550978835|6280d577-25c8-414...|\n",
      "|2019-10-01 00:00:10|      view|  28719074|2053013565480109009|  apparel.shoes.keds|   baden| 102.71|520571932|ac1cd4e5-a3ce-422...|\n",
      "|2019-10-01 00:00:11|      view|   1004545|2053013555631882655|electronics.smart...|  huawei| 566.01|537918940|406c46ed-90a4-478...|\n",
      "|2019-10-01 00:00:11|      view|   2900536|2053013554776244595|appliances.kitche...|elenberg|  51.46|555158050|b5bdd0b3-4ca2-4c5...|\n",
      "|2019-10-01 00:00:11|      view|   1005011|2053013555631882655|electronics.smart...| samsung| 900.64|530282093|50a293fb-5940-41b...|\n",
      "|2019-10-01 00:00:13|      view|   3900746|2053013552326770905|appliances.enviro...|   haier| 102.38|555444559|98b88fa0-d8fa-4b9...|\n",
      "|2019-10-01 00:00:15|      view|  44600062|2103807459595387724|                null|shiseido|  35.79|541312140|72d76fde-8bb3-4e0...|\n",
      "|2019-10-01 00:00:16|      view|  13500240|2053013557099889147|furniture.bedroom...|     brw|  93.18|555446365|7f0062d8-ead0-4e0...|\n",
      "|2019-10-01 00:00:17|      view|  23100006|2053013561638126333|                null|    null| 357.79|513642368|17566c27-0a8f-450...|\n",
      "|2019-10-01 00:00:18|      view|   1801995|2053013554415534427|electronics.video.tv|   haier| 193.03|537192226|e3151795-c355-4ef...|\n",
      "|2019-10-01 00:00:18|      view|  10900029|2053013555069845885|appliances.kitche...|   bosch|  58.95|519528062|901b9e3c-3f8f-414...|\n",
      "|2019-10-01 00:00:19|      view|   1306631|2053013558920217191|  computers.notebook|      hp| 580.89|550050854|7c90fc70-0e80-459...|\n",
      "|2019-10-01 00:00:19|      view|   1005135|2053013555631882655|electronics.smart...|   apple|1747.79|535871217|c6bd7419-2748-4c5...|\n",
      "+-------------------+----------+----------+-------------------+--------------------+--------+-------+---------+--------------------+\n",
      "only showing top 20 rows\n",
      "\n"
     ]
    }
   ],
   "source": [
    "data.show()"
   ]
  },
  {
   "cell_type": "markdown",
   "metadata": {},
   "source": [
    "#### Conversion des types des variables "
   ]
  },
  {
   "cell_type": "code",
   "execution_count": 9,
   "metadata": {},
   "outputs": [
    {
     "name": "stdout",
     "output_type": "stream",
     "text": [
      "root\n",
      " |-- event_time: string (nullable = true)\n",
      " |-- event_type: string (nullable = true)\n",
      " |-- product_id: string (nullable = true)\n",
      " |-- category_id: string (nullable = true)\n",
      " |-- category_code: string (nullable = true)\n",
      " |-- brand: string (nullable = true)\n",
      " |-- price: string (nullable = true)\n",
      " |-- user_id: string (nullable = true)\n",
      " |-- user_session: string (nullable = true)\n",
      "\n"
     ]
    }
   ],
   "source": [
    "data.printSchema()"
   ]
  },
  {
   "cell_type": "code",
   "execution_count": 10,
   "metadata": {},
   "outputs": [],
   "source": [
    "data = data \\\n",
    "    .withColumn(\"event_time\", func.to_timestamp(\"event_time\",\"yyyy-MM-dd HH:mm:ss\")) \\\n",
    "    .withColumn(\"product_id\", func.col(\"product_id\").cast(\"int\")) \\\n",
    "    .withColumn(\"price\", func.col(\"price\").cast(\"double\")) \\\n",
    "    .withColumn(\"user_id\", func.col(\"user_id\").cast(\"int\"))"
   ]
  },
  {
   "cell_type": "code",
   "execution_count": 11,
   "metadata": {},
   "outputs": [
    {
     "name": "stdout",
     "output_type": "stream",
     "text": [
      "root\n",
      " |-- event_time: timestamp (nullable = true)\n",
      " |-- event_type: string (nullable = true)\n",
      " |-- product_id: integer (nullable = true)\n",
      " |-- category_id: string (nullable = true)\n",
      " |-- category_code: string (nullable = true)\n",
      " |-- brand: string (nullable = true)\n",
      " |-- price: double (nullable = true)\n",
      " |-- user_id: integer (nullable = true)\n",
      " |-- user_session: string (nullable = true)\n",
      "\n"
     ]
    }
   ],
   "source": [
    "data.printSchema()"
   ]
  },
  {
   "cell_type": "markdown",
   "metadata": {},
   "source": [
    "#### Agrégation à la maille (session utilisateur x article)"
   ]
  },
  {
   "cell_type": "code",
   "execution_count": 12,
   "metadata": {},
   "outputs": [
    {
     "name": "stderr",
     "output_type": "stream",
     "text": [
      "24/01/20 17:47:45 WARN GarbageCollectionMetrics: To enable non-built-in garbage collector(s) List(G1 Concurrent GC), users should configure it(them) to spark.eventLog.gcMetrics.youngGenerationGarbageCollectors or spark.eventLog.gcMetrics.oldGenerationGarbageCollectors\n"
     ]
    }
   ],
   "source": [
    "session_product_data = data \\\n",
    "    .groupby(\"user_session\",\"product_id\",\"user_id\") \\\n",
    "    .agg(\n",
    "        \n",
    "        # Calculer le prix moyen de cet article pendant la session\n",
    "        func.mean(func.col(\"price\")).alias(\"price\"),\n",
    "\n",
    "        # Obtenir la catégorie de cet article (on suppose logiquement que c'est la même durant toute la session)\n",
    "        func.first(\"category_code\").alias(\"category_code\"),\n",
    "                   \n",
    "        # Obtenir la  marque de cet article (on suppose logiquement que c'est la même durant toute la session)\n",
    "        func.first(\"brand\").alias(\"brand\"),\n",
    "        \n",
    "        # Compter le nombre de vues de cet article dans la session\n",
    "        func.sum(func.when(func.col(\"event_type\") == \"view\", 1).otherwise(0)).alias(\"num_views_product\"),\n",
    "\n",
    "        # Regarder si 'purchase' est apparu au moins une fois pour cet article dans les événements de la session\n",
    "        func.when(func.sum(func.when(func.col(\"event_type\") == \"purchase\", 1).otherwise(0))>=1,True).otherwise(False).alias(\"purchased\"),\n",
    "        \n",
    "    )"
   ]
  },
  {
   "cell_type": "code",
   "execution_count": 13,
   "metadata": {},
   "outputs": [
    {
     "name": "stderr",
     "output_type": "stream",
     "text": [
      "[Stage 2:>                                                          (0 + 3) / 3]\r"
     ]
    },
    {
     "name": "stdout",
     "output_type": "stream",
     "text": [
      "+--------------------+----------+---------+------+--------------------+--------+-----------------+---------+\n",
      "|        user_session|product_id|  user_id| price|       category_code|   brand|num_views_product|purchased|\n",
      "+--------------------+----------+---------+------+--------------------+--------+-----------------+---------+\n",
      "|0000c738-9fbb-466...|   2600500|529430576|218.77|                null|  gefest|                1|    false|\n",
      "|0000c738-9fbb-466...|   2601627|529430576|218.54|                null|    null|                1|    false|\n",
      "|0000c738-9fbb-466...|   2602106|529430576|221.34|                null|dauscher|                1|    false|\n",
      "|00016584-60b8-4d6...|   5100570|536959548|460.96|  electronics.clocks|   apple|                1|    false|\n",
      "|00016bb9-b50d-4bc...|  12300393|523769618|  39.1|construction.tool...|    null|                2|    false|\n",
      "|0001d713-f9c4-4d9...|   4803977|513196971| 107.8|electronics.audio...| samsung|                1|    false|\n",
      "|0001d713-f9c4-4d9...|   4804295|513196971| 22.39|electronics.audio...|  xiaomi|                5|    false|\n",
      "|00038086-784e-42e...|   3601241|555569403| 350.7|appliances.kitche...|      lg|                1|    false|\n",
      "|0004877e-8ef5-4ff...|  17100239|513325471| 17.27|                null|    ikea|                1|    false|\n",
      "|00054a98-706d-097...|  15100350|538099407|321.73|                null|    null|                1|    false|\n",
      "|00054a98-706d-097...|  17200651|538099407|437.33|furniture.living_...|    null|                1|    false|\n",
      "|00054a98-706d-097...|  26402712|538099407|273.12|                null|    null|                1|    false|\n",
      "|00054a98-706d-097...|  38900016|538099407|  69.5|                null|    null|                2|    false|\n",
      "|0005957a-094f-4c9...|   1004836|513391929|241.18|electronics.smart...| samsung|                1|    false|\n",
      "|0005abe4-d36a-459...|   1004767|553983751|253.16|electronics.smart...| samsung|                1|    false|\n",
      "|0005d589-4d96-456...|  22700068|547773402| 90.08|                null|   force|                1|    false|\n",
      "|00065628-6b31-4a1...|   6500955|512503268| 61.67|computers.compone...|gigabyte|                1|    false|\n",
      "|00065628-6b31-4a1...|   6600725|512503268| 23.14|computers.compone...| samsung|                1|    false|\n",
      "|00065628-6b31-4a1...|   6701096|512503268|200.52|computers.compone...|  asrock|                1|    false|\n",
      "|0006852b-f9a2-4d8...|   1005153|536297355|231.64|electronics.smart...|  xiaomi|                1|    false|\n",
      "+--------------------+----------+---------+------+--------------------+--------+-----------------+---------+\n",
      "only showing top 20 rows\n",
      "\n"
     ]
    },
    {
     "name": "stderr",
     "output_type": "stream",
     "text": [
      "                                                                                \r"
     ]
    }
   ],
   "source": [
    "session_product_data.show()"
   ]
  },
  {
   "cell_type": "markdown",
   "metadata": {},
   "source": [
    "#### Agrégation à la maille (session utilisateur)"
   ]
  },
  {
   "cell_type": "code",
   "execution_count": 14,
   "metadata": {},
   "outputs": [],
   "source": [
    "session_data = data \\\n",
    "    .groupby(\"user_session\",\"user_id\") \\\n",
    "    .agg(\n",
    "        \n",
    "        # Obtenir la date du premier événement de la session\n",
    "        func.min(\"event_time\").alias(\"start_time\"),\n",
    "\n",
    "        # Obtenir la date du dernier événement de la session\n",
    "        func.max(\"event_time\").alias(\"end_time\"),\n",
    "\n",
    "        # Compter le nombre d'articles différents vus dans la session\n",
    "        func.countDistinct(\"product_id\").alias(\"num_views_session\")\n",
    "        \n",
    "    ) \\\n",
    "    .withColumn(\"duration\", \n",
    "\n",
    "                # Calculer la durée de la session\n",
    "                (func.col(\"end_time\")-func.col(\"start_time\")).cast(\"int\")\n",
    "                \n",
    "               )\\\n",
    "    .withColumn(\"start_hour\",\n",
    "                \n",
    "                # Heure de début de session\n",
    "                func.hour(\"start_time\")\n",
    "                \n",
    "               )\\\n",
    "    .withColumn(\"start_minute\",\n",
    "                \n",
    "                # Minute de début de session\n",
    "                func.minute(\"start_time\")\n",
    "                \n",
    "               )\\\n",
    "    .withColumn(\"start_dayofweek\",\n",
    "                \n",
    "                # Jour de début de session\n",
    "                func.dayofweek(\"start_time\")\n",
    "                \n",
    "               )\n",
    "\n"
   ]
  },
  {
   "cell_type": "code",
   "execution_count": 15,
   "metadata": {},
   "outputs": [],
   "source": [
    "# Créez une fenêtre temporelle basée sur la colonne event_time\n",
    "windowSpec = Window.partitionBy(\"user_id\").orderBy(\"start_time\")\n",
    "session_data = session_data \\\n",
    "    .withColumn(\"sessions_precedentes\",\n",
    "                # Nombre de sessions precedentes\n",
    "                func.row_number().over(windowSpec) - 1\n",
    "               )"
   ]
  },
  {
   "cell_type": "code",
   "execution_count": 16,
   "metadata": {},
   "outputs": [
    {
     "name": "stderr",
     "output_type": "stream",
     "text": [
      "[Stage 10:>                                                         (0 + 3) / 3]\r"
     ]
    },
    {
     "name": "stdout",
     "output_type": "stream",
     "text": [
      "+--------------------+---------+-------------------+-------------------+-----------------+--------+----------+------------+---------------+--------------------+\n",
      "|        user_session|  user_id|         start_time|           end_time|num_views_session|duration|start_hour|start_minute|start_dayofweek|sessions_precedentes|\n",
      "+--------------------+---------+-------------------+-------------------+-----------------+--------+----------+------------+---------------+--------------------+\n",
      "|91769fdf-461b-4e4...|244951053|2019-10-01 08:47:35|2019-10-01 08:48:28|                1|      53|         8|          47|              3|                   0|\n",
      "|0051531b-c007-442...|292071852|2019-10-01 17:06:51|2019-10-01 17:06:51|                1|       0|        17|           6|              3|                   0|\n",
      "|d146126f-ce44-48d...|293291933|2019-10-01 18:58:32|2019-10-01 19:03:11|                4|     279|        18|          58|              3|                   0|\n",
      "|85e3fda6-c15d-488...|293291933|2019-10-01 19:03:31|2019-10-01 19:03:31|                1|       0|        19|           3|              3|                   1|\n",
      "|a15f469a-968f-4c8...|306087674|2019-10-01 17:07:37|2019-10-01 17:07:37|                1|       0|        17|           7|              3|                   0|\n",
      "|0c032f47-6050-460...|306087674|2019-10-01 17:15:42|2019-10-01 17:23:02|                3|     440|        17|          15|              3|                   1|\n",
      "|880eca1d-d737-479...|321655812|2019-10-01 05:55:19|2019-10-01 05:56:57|                2|      98|         5|          55|              3|                   0|\n",
      "|8dfc5232-f93f-4ce...|330585300|2019-10-01 09:46:41|2019-10-01 10:05:21|                6|    1120|         9|          46|              3|                   0|\n",
      "|d24b717d-1956-4a3...|332550649|2019-10-01 08:06:33|2019-10-01 08:23:30|                6|    1017|         8|           6|              3|                   0|\n",
      "|fe029b2d-12ed-43c...|336728781|2019-10-01 18:38:31|2019-10-01 18:38:31|                1|       0|        18|          38|              3|                   0|\n",
      "|46763e2b-bd3b-483...|337535108|2019-10-01 13:51:12|2019-10-01 13:51:33|                1|      21|        13|          51|              3|                   0|\n",
      "|ecf08e05-2b43-4b0...|337535108|2019-10-01 14:03:03|2019-10-01 14:04:32|                3|      89|        14|           3|              3|                   1|\n",
      "|f791b47c-33f6-470...|351866718|2019-10-01 04:36:25|2019-10-01 04:36:25|                1|       0|         4|          36|              3|                   0|\n",
      "|08a0ab75-095d-476...|359660585|2019-10-01 10:58:40|2019-10-01 11:01:09|                3|     149|        10|          58|              3|                   0|\n",
      "|5d3a9f70-477f-4eb...|361252598|2019-10-01 18:37:22|2019-10-01 18:37:22|                1|       0|        18|          37|              3|                   0|\n",
      "|a7d81604-ed16-4bf...|362972137|2019-10-01 09:41:49|2019-10-01 09:45:56|                2|     247|         9|          41|              3|                   0|\n",
      "|e10ca59a-ba0f-42a...|370331084|2019-10-01 15:55:00|2019-10-01 15:55:00|                1|       0|        15|          55|              3|                   0|\n",
      "|ab846129-c75f-4da...|376216570|2019-10-01 16:39:20|2019-10-01 16:47:04|                6|     464|        16|          39|              3|                   0|\n",
      "|bf083667-1e58-4db...|379600361|2019-10-01 17:11:32|2019-10-01 17:11:32|                1|       0|        17|          11|              3|                   0|\n",
      "|61a4c412-3938-474...|388541724|2019-10-01 11:09:57|2019-10-01 11:10:58|                2|      61|        11|           9|              3|                   0|\n",
      "+--------------------+---------+-------------------+-------------------+-----------------+--------+----------+------------+---------------+--------------------+\n",
      "only showing top 20 rows\n",
      "\n"
     ]
    },
    {
     "name": "stderr",
     "output_type": "stream",
     "text": [
      "                                                                                \r"
     ]
    }
   ],
   "source": [
    "session_data.show()"
   ]
  },
  {
   "cell_type": "markdown",
   "metadata": {},
   "source": [
    "#### Jointure tables (session x utilisateur x article) et (session x utilisateur)"
   ]
  },
  {
   "cell_type": "code",
   "execution_count": 17,
   "metadata": {},
   "outputs": [],
   "source": [
    "session_product_data = session_product_data \\\n",
    "    .join(session_data,on = [\"user_id\",\"user_session\"])"
   ]
  },
  {
   "cell_type": "code",
   "execution_count": 18,
   "metadata": {},
   "outputs": [
    {
     "name": "stderr",
     "output_type": "stream",
     "text": [
      "[Stage 27:>                                                         (0 + 3) / 3]\r"
     ]
    },
    {
     "name": "stdout",
     "output_type": "stream",
     "text": [
      "+---------+--------------------+----------+------+--------------------+-------+-----------------+---------+-------------------+-------------------+-----------------+--------+----------+------------+---------------+--------------------+\n",
      "|  user_id|        user_session|product_id| price|       category_code|  brand|num_views_product|purchased|         start_time|           end_time|num_views_session|duration|start_hour|start_minute|start_dayofweek|sessions_precedentes|\n",
      "+---------+--------------------+----------+------+--------------------+-------+-----------------+---------+-------------------+-------------------+-----------------+--------+----------+------------+---------------+--------------------+\n",
      "|293291933|d146126f-ce44-48d...|   6902377| 36.09|furniture.living_...|bambola|                1|    false|2019-10-01 18:58:32|2019-10-01 19:03:11|                4|     279|        18|          58|              3|                   0|\n",
      "|293291933|d146126f-ce44-48d...|   7005811|489.05|       kids.carriage| chicco|                1|    false|2019-10-01 18:58:32|2019-10-01 19:03:11|                4|     279|        18|          58|              3|                   0|\n",
      "|293291933|d146126f-ce44-48d...|   7005812|514.79|       kids.carriage| chicco|                1|    false|2019-10-01 18:58:32|2019-10-01 19:03:11|                4|     279|        18|          58|              3|                   0|\n",
      "|293291933|d146126f-ce44-48d...|  50100043| 52.51|                null|   null|                1|    false|2019-10-01 18:58:32|2019-10-01 19:03:11|                4|     279|        18|          58|              3|                   0|\n",
      "|295655799|eb8f2cea-4c5b-4e0...|   6400036|338.23|computers.compone...|  intel|                1|    false|2019-10-01 16:48:28|2019-10-01 16:48:28|                1|       0|        16|          48|              3|                   0|\n",
      "|296465302|652ecd6d-cfe8-489...|  16800158|111.97|furniture.kitchen...|   null|                2|    false|2019-10-01 18:04:23|2019-10-01 18:17:10|               14|     767|        18|           4|              3|                   0|\n",
      "|296465302|652ecd6d-cfe8-489...|  17100018| 33.44|                null|     sv|                1|    false|2019-10-01 18:04:23|2019-10-01 18:17:10|               14|     767|        18|           4|              3|                   0|\n",
      "|296465302|652ecd6d-cfe8-489...|  16800035| 64.09|furniture.kitchen...|    bts|                1|    false|2019-10-01 18:04:23|2019-10-01 18:17:10|               14|     767|        18|           4|              3|                   0|\n",
      "|296465302|652ecd6d-cfe8-489...|  16800036|  66.9|furniture.kitchen...|    bts|                2|    false|2019-10-01 18:04:23|2019-10-01 18:17:10|               14|     767|        18|           4|              3|                   0|\n",
      "|296465302|652ecd6d-cfe8-489...|  16800042| 92.64|furniture.kitchen...|    bts|                1|    false|2019-10-01 18:04:23|2019-10-01 18:17:10|               14|     767|        18|           4|              3|                   0|\n",
      "|296465302|652ecd6d-cfe8-489...|  16800231| 51.22|furniture.kitchen...|   null|                2|    false|2019-10-01 18:04:23|2019-10-01 18:17:10|               14|     767|        18|           4|              3|                   0|\n",
      "|296465302|652ecd6d-cfe8-489...|  16800027| 51.22|furniture.kitchen...|    bts|                2|    false|2019-10-01 18:04:23|2019-10-01 18:17:10|               14|     767|        18|           4|              3|                   0|\n",
      "|296465302|652ecd6d-cfe8-489...|  16800033| 51.22|furniture.kitchen...|    bts|                1|    false|2019-10-01 18:04:23|2019-10-01 18:17:10|               14|     767|        18|           4|              3|                   0|\n",
      "|296465302|652ecd6d-cfe8-489...|  16800034|  66.9|furniture.kitchen...|    bts|                1|    false|2019-10-01 18:04:23|2019-10-01 18:17:10|               14|     767|        18|           4|              3|                   0|\n",
      "|296465302|652ecd6d-cfe8-489...|  16800160| 86.23|furniture.kitchen...|   null|                2|    false|2019-10-01 18:04:23|2019-10-01 18:17:10|               14|     767|        18|           4|              3|                   0|\n",
      "|296465302|652ecd6d-cfe8-489...|  16800177|153.16|furniture.kitchen...|   null|                1|    false|2019-10-01 18:04:23|2019-10-01 18:17:10|               14|     767|        18|           4|              3|                   0|\n",
      "|296465302|652ecd6d-cfe8-489...|  16800179|153.16|furniture.kitchen...|   null|                2|    false|2019-10-01 18:04:23|2019-10-01 18:17:10|               14|     767|        18|           4|              3|                   0|\n",
      "|296465302|652ecd6d-cfe8-489...|  16800381| 48.65|furniture.kitchen...|   null|                1|    false|2019-10-01 18:04:23|2019-10-01 18:17:10|               14|     767|        18|           4|              3|                   0|\n",
      "|296465302|652ecd6d-cfe8-489...|  17000069|264.59|   computers.desktop|   null|                1|    false|2019-10-01 18:04:23|2019-10-01 18:17:10|               14|     767|        18|           4|              3|                   0|\n",
      "|315805600|7f291911-a96e-48a...|   3601138| 93.75|appliances.kitche...|  artel|                1|    false|2019-10-01 11:20:46|2019-10-01 11:23:01|                4|     135|        11|          20|              3|                   0|\n",
      "+---------+--------------------+----------+------+--------------------+-------+-----------------+---------+-------------------+-------------------+-----------------+--------+----------+------------+---------------+--------------------+\n",
      "only showing top 20 rows\n",
      "\n"
     ]
    },
    {
     "name": "stderr",
     "output_type": "stream",
     "text": [
      "                                                                                \r"
     ]
    }
   ],
   "source": [
    "session_product_data.show()"
   ]
  },
  {
   "cell_type": "markdown",
   "metadata": {},
   "source": [
    "#### Calcul du nombre de fois où l'article a été déjà vu dans des sessions précédentes"
   ]
  },
  {
   "cell_type": "code",
   "execution_count": 23,
   "metadata": {},
   "outputs": [],
   "source": [
    "windowSpec = Window.partitionBy(\"user_id\",\"product_id\").orderBy(\"start_time\")"
   ]
  },
  {
   "cell_type": "code",
   "execution_count": 24,
   "metadata": {},
   "outputs": [],
   "source": [
    "session_product_data = session_product_data \\\n",
    "    .withColumn(\"num_prev_and_current_product_views\",\n",
    "                \n",
    "                # Nombre de fois où l'article a été vu dans les sessions précédentes (session courante inclue)\n",
    "                func.sum(\"num_views_product\").over(windowSpec)\n",
    "               ) \\\n",
    "    .withColumn(\"num_prev_product_views\",\n",
    "\n",
    "                # Nombre où l'article a été déjà vu dans des sessions précédentes (session courante exclue)\n",
    "                func.col(\"num_prev_and_current_product_views\") - func.col(\"num_views_product\")\n",
    "               )"
   ]
  },
  {
   "cell_type": "code",
   "execution_count": 25,
   "metadata": {},
   "outputs": [
    {
     "name": "stderr",
     "output_type": "stream",
     "text": [
      "[Stage 110:>                                                        (0 + 3) / 3]\r"
     ]
    },
    {
     "name": "stdout",
     "output_type": "stream",
     "text": [
      "+---------+--------------------+----------+------+--------------------+--------+-----------------+---------+-------------------+-------------------+-----------------+--------+----------+------------+---------------+--------------------+----------------------------------+----------------------+\n",
      "|  user_id|        user_session|product_id| price|       category_code|   brand|num_views_product|purchased|         start_time|           end_time|num_views_session|duration|start_hour|start_minute|start_dayofweek|sessions_precedentes|num_prev_and_current_product_views|num_prev_product_views|\n",
      "+---------+--------------------+----------+------+--------------------+--------+-----------------+---------+-------------------+-------------------+-----------------+--------+----------+------------+---------------+--------------------+----------------------------------+----------------------+\n",
      "|244951053|91769fdf-461b-4e4...|   1003535| 460.5|electronics.smart...| samsung|                2|    false|2019-10-01 08:47:35|2019-10-01 08:48:28|                1|      53|         8|          47|              3|                   0|                                 2|                     0|\n",
      "|260013793|70d27bfa-e05f-4f3...|  16000299| 20.31|                null| rondell|                1|    false|2019-10-01 17:45:30|2019-10-01 18:00:44|               22|     914|        17|          45|              3|                   0|                                 1|                     0|\n",
      "|260013793|70d27bfa-e05f-4f3...|  16000346| 30.37|                null|berghoff|                1|    false|2019-10-01 17:45:30|2019-10-01 18:00:44|               22|     914|        17|          45|              3|                   0|                                 1|                     0|\n",
      "|260013793|70d27bfa-e05f-4f3...|  16000702|  30.7|                null|  agness|                1|    false|2019-10-01 17:45:30|2019-10-01 18:00:44|               22|     914|        17|          45|              3|                   0|                                 1|                     0|\n",
      "|260013793|70d27bfa-e05f-4f3...|  16000950| 43.71|                null|  metrot|                1|    false|2019-10-01 17:45:30|2019-10-01 18:00:44|               22|     914|        17|          45|              3|                   0|                                 1|                     0|\n",
      "|260013793|70d27bfa-e05f-4f3...|  16000958| 12.23|                null|dauscher|                1|    false|2019-10-01 17:45:30|2019-10-01 18:00:44|               22|     914|        17|          45|              3|                   0|                                 1|                     0|\n",
      "|260013793|70d27bfa-e05f-4f3...|  16000959| 15.96|                null|dauscher|                1|    false|2019-10-01 17:45:30|2019-10-01 18:00:44|               22|     914|        17|          45|              3|                   0|                                 1|                     0|\n",
      "|260013793|70d27bfa-e05f-4f3...|  16000960| 20.85|                null|dauscher|                1|    false|2019-10-01 17:45:30|2019-10-01 18:00:44|               22|     914|        17|          45|              3|                   0|                                 1|                     0|\n",
      "|260013793|70d27bfa-e05f-4f3...|  16001074| 16.06|                null|dauscher|                1|    false|2019-10-01 17:45:30|2019-10-01 18:00:44|               22|     914|        17|          45|              3|                   0|                                 1|                     0|\n",
      "|293291933|d146126f-ce44-48d...|   6902377| 36.09|furniture.living_...| bambola|                1|    false|2019-10-01 18:58:32|2019-10-01 19:03:11|                4|     279|        18|          58|              3|                   0|                                 1|                     0|\n",
      "|293291933|d146126f-ce44-48d...|   7005811|489.05|       kids.carriage|  chicco|                1|    false|2019-10-01 18:58:32|2019-10-01 19:03:11|                4|     279|        18|          58|              3|                   0|                                 1|                     0|\n",
      "|293291933|d146126f-ce44-48d...|  50100043| 52.51|                null|    null|                1|    false|2019-10-01 18:58:32|2019-10-01 19:03:11|                4|     279|        18|          58|              3|                   0|                                 1|                     0|\n",
      "|293291933|85e3fda6-c15d-488...|  50100043| 52.51|                null|    null|                1|    false|2019-10-01 19:03:31|2019-10-01 19:03:31|                1|       0|        19|           3|              3|                   1|                                 2|                     1|\n",
      "|295655799|eb8f2cea-4c5b-4e0...|   6400036|338.23|computers.compone...|   intel|                1|    false|2019-10-01 16:48:28|2019-10-01 16:48:28|                1|       0|        16|          48|              3|                   0|                                 1|                     0|\n",
      "|296465302|652ecd6d-cfe8-489...|  16800033| 51.22|furniture.kitchen...|     bts|                1|    false|2019-10-01 18:04:23|2019-10-01 18:17:10|               14|     767|        18|           4|              3|                   0|                                 1|                     0|\n",
      "|296465302|652ecd6d-cfe8-489...|  16800034|  66.9|furniture.kitchen...|     bts|                1|    false|2019-10-01 18:04:23|2019-10-01 18:17:10|               14|     767|        18|           4|              3|                   0|                                 1|                     0|\n",
      "|296465302|652ecd6d-cfe8-489...|  16800035| 64.09|furniture.kitchen...|     bts|                1|    false|2019-10-01 18:04:23|2019-10-01 18:17:10|               14|     767|        18|           4|              3|                   0|                                 1|                     0|\n",
      "|296465302|652ecd6d-cfe8-489...|  16800036|  66.9|furniture.kitchen...|     bts|                2|    false|2019-10-01 18:04:23|2019-10-01 18:17:10|               14|     767|        18|           4|              3|                   0|                                 2|                     0|\n",
      "|296465302|652ecd6d-cfe8-489...|  16800158|111.97|furniture.kitchen...|    null|                2|    false|2019-10-01 18:04:23|2019-10-01 18:17:10|               14|     767|        18|           4|              3|                   0|                                 2|                     0|\n",
      "|306087674|a15f469a-968f-4c8...|   1004870|286.84|electronics.smart...| samsung|                1|    false|2019-10-01 17:07:37|2019-10-01 17:07:37|                1|       0|        17|           7|              3|                   0|                                 1|                     0|\n",
      "+---------+--------------------+----------+------+--------------------+--------+-----------------+---------+-------------------+-------------------+-----------------+--------+----------+------------+---------------+--------------------+----------------------------------+----------------------+\n",
      "only showing top 20 rows\n",
      "\n"
     ]
    },
    {
     "name": "stderr",
     "output_type": "stream",
     "text": [
      "                                                                                \r"
     ]
    }
   ],
   "source": [
    "session_product_data.show()"
   ]
  }
 ],
 "metadata": {
  "kernelspec": {
   "display_name": "Python 3 (ipykernel)",
   "language": "python",
   "name": "python3"
  },
  "language_info": {
   "codemirror_mode": {
    "name": "ipython",
    "version": 3
   },
   "file_extension": ".py",
   "mimetype": "text/x-python",
   "name": "python",
   "nbconvert_exporter": "python",
   "pygments_lexer": "ipython3",
   "version": "3.10.5"
  }
 },
 "nbformat": 4,
 "nbformat_minor": 4
}
